{
 "cells": [
  {
   "cell_type": "code",
   "execution_count": 141,
   "metadata": {},
   "outputs": [],
   "source": [
    "# Import libraries\n",
    "import os\n",
    "import requests\n",
    "from zipfile import ZipFile\n",
    "import pandas as pd \n",
    "import matplotlib.pyplot as plt\n",
    "import numpy as np\n",
    "import matplotlib.dates as mdates"
   ]
  },
  {
   "cell_type": "code",
   "execution_count": 183,
   "metadata": {},
   "outputs": [],
   "source": [
    "# Define working directory\n",
    "os.chdir('/Users/monlopez/Documents/MON/data_bases/covid-19/Mayo')"
   ]
  },
  {
   "cell_type": "code",
   "execution_count": 184,
   "metadata": {},
   "outputs": [],
   "source": [
    "# Dowload ZipFile of Governmet webpage\n",
    "# https://datos.gob.mx/busca/dataset/informacion-referente-a-casos-covid-19-en-mexico\n",
    "url = 'http://187.191.75.115/gobmx/salud/datos_abiertos/datos_abiertos_covid19.zip'\n",
    "r = requests.get(url)\n",
    "\n",
    "with open('/Users/monlopez/Documents/MON/data_bases/covid-19/Mayo/datos_abiertos_covid19.zip', 'wb') as f:\n",
    "    f.write(r.content)"
   ]
  },
  {
   "cell_type": "code",
   "execution_count": 185,
   "metadata": {},
   "outputs": [],
   "source": [
    "# UnZip\n",
    "with ZipFile('datos_abiertos_covid19.zip', 'r') as zipObj:\n",
    "   # Extraxt zip contents in the working directory  \n",
    "   zipObj.extractall()"
   ]
  },
  {
   "cell_type": "code",
   "execution_count": 186,
   "metadata": {},
   "outputs": [
    {
     "data": {
      "text/plain": [
       "(155932, 35)"
      ]
     },
     "execution_count": 186,
     "metadata": {},
     "output_type": "execute_result"
    }
   ],
   "source": [
    "# Import dataset\n",
    "# The file name will change depending of the day\n",
    "covid_19 = pd.read_csv(\"200514COVID19MEXICO.csv\", encoding = \"ISO-8859-1\") \n",
    "covid_19.shape"
   ]
  },
  {
   "cell_type": "code",
   "execution_count": 187,
   "metadata": {},
   "outputs": [
    {
     "data": {
      "text/html": [
       "<div>\n",
       "<style scoped>\n",
       "    .dataframe tbody tr th:only-of-type {\n",
       "        vertical-align: middle;\n",
       "    }\n",
       "\n",
       "    .dataframe tbody tr th {\n",
       "        vertical-align: top;\n",
       "    }\n",
       "\n",
       "    .dataframe thead th {\n",
       "        text-align: right;\n",
       "    }\n",
       "</style>\n",
       "<table border=\"1\" class=\"dataframe\">\n",
       "  <thead>\n",
       "    <tr style=\"text-align: right;\">\n",
       "      <th></th>\n",
       "      <th>FECHA_ACTUALIZACION</th>\n",
       "      <th>ID_REGISTRO</th>\n",
       "      <th>ORIGEN</th>\n",
       "      <th>SECTOR</th>\n",
       "      <th>ENTIDAD_UM</th>\n",
       "      <th>SEXO</th>\n",
       "      <th>ENTIDAD_NAC</th>\n",
       "      <th>ENTIDAD_RES</th>\n",
       "      <th>MUNICIPIO_RES</th>\n",
       "      <th>TIPO_PACIENTE</th>\n",
       "      <th>...</th>\n",
       "      <th>CARDIOVASCULAR</th>\n",
       "      <th>OBESIDAD</th>\n",
       "      <th>RENAL_CRONICA</th>\n",
       "      <th>TABAQUISMO</th>\n",
       "      <th>OTRO_CASO</th>\n",
       "      <th>RESULTADO</th>\n",
       "      <th>MIGRANTE</th>\n",
       "      <th>PAIS_NACIONALIDAD</th>\n",
       "      <th>PAIS_ORIGEN</th>\n",
       "      <th>UCI</th>\n",
       "    </tr>\n",
       "  </thead>\n",
       "  <tbody>\n",
       "    <tr>\n",
       "      <th>0</th>\n",
       "      <td>2020-05-14</td>\n",
       "      <td>03210d</td>\n",
       "      <td>2</td>\n",
       "      <td>4</td>\n",
       "      <td>31</td>\n",
       "      <td>1</td>\n",
       "      <td>31</td>\n",
       "      <td>31</td>\n",
       "      <td>50</td>\n",
       "      <td>1</td>\n",
       "      <td>...</td>\n",
       "      <td>2</td>\n",
       "      <td>1</td>\n",
       "      <td>2</td>\n",
       "      <td>2</td>\n",
       "      <td>99</td>\n",
       "      <td>1</td>\n",
       "      <td>99</td>\n",
       "      <td>MÃ©xico</td>\n",
       "      <td>99</td>\n",
       "      <td>97</td>\n",
       "    </tr>\n",
       "    <tr>\n",
       "      <th>1</th>\n",
       "      <td>2020-05-14</td>\n",
       "      <td>0e00d2</td>\n",
       "      <td>2</td>\n",
       "      <td>4</td>\n",
       "      <td>9</td>\n",
       "      <td>1</td>\n",
       "      <td>9</td>\n",
       "      <td>9</td>\n",
       "      <td>16</td>\n",
       "      <td>1</td>\n",
       "      <td>...</td>\n",
       "      <td>2</td>\n",
       "      <td>2</td>\n",
       "      <td>2</td>\n",
       "      <td>2</td>\n",
       "      <td>99</td>\n",
       "      <td>1</td>\n",
       "      <td>99</td>\n",
       "      <td>MÃ©xico</td>\n",
       "      <td>99</td>\n",
       "      <td>97</td>\n",
       "    </tr>\n",
       "    <tr>\n",
       "      <th>2</th>\n",
       "      <td>2020-05-14</td>\n",
       "      <td>03f822</td>\n",
       "      <td>2</td>\n",
       "      <td>4</td>\n",
       "      <td>9</td>\n",
       "      <td>2</td>\n",
       "      <td>12</td>\n",
       "      <td>23</td>\n",
       "      <td>8</td>\n",
       "      <td>1</td>\n",
       "      <td>...</td>\n",
       "      <td>2</td>\n",
       "      <td>2</td>\n",
       "      <td>2</td>\n",
       "      <td>2</td>\n",
       "      <td>99</td>\n",
       "      <td>1</td>\n",
       "      <td>99</td>\n",
       "      <td>MÃ©xico</td>\n",
       "      <td>99</td>\n",
       "      <td>97</td>\n",
       "    </tr>\n",
       "    <tr>\n",
       "      <th>3</th>\n",
       "      <td>2020-05-14</td>\n",
       "      <td>002430</td>\n",
       "      <td>2</td>\n",
       "      <td>4</td>\n",
       "      <td>22</td>\n",
       "      <td>2</td>\n",
       "      <td>22</td>\n",
       "      <td>22</td>\n",
       "      <td>14</td>\n",
       "      <td>1</td>\n",
       "      <td>...</td>\n",
       "      <td>2</td>\n",
       "      <td>2</td>\n",
       "      <td>2</td>\n",
       "      <td>2</td>\n",
       "      <td>99</td>\n",
       "      <td>1</td>\n",
       "      <td>99</td>\n",
       "      <td>MÃ©xico</td>\n",
       "      <td>99</td>\n",
       "      <td>97</td>\n",
       "    </tr>\n",
       "    <tr>\n",
       "      <th>4</th>\n",
       "      <td>2020-05-14</td>\n",
       "      <td>0930ff</td>\n",
       "      <td>2</td>\n",
       "      <td>4</td>\n",
       "      <td>9</td>\n",
       "      <td>2</td>\n",
       "      <td>9</td>\n",
       "      <td>15</td>\n",
       "      <td>121</td>\n",
       "      <td>2</td>\n",
       "      <td>...</td>\n",
       "      <td>1</td>\n",
       "      <td>2</td>\n",
       "      <td>2</td>\n",
       "      <td>2</td>\n",
       "      <td>99</td>\n",
       "      <td>1</td>\n",
       "      <td>99</td>\n",
       "      <td>MÃ©xico</td>\n",
       "      <td>99</td>\n",
       "      <td>2</td>\n",
       "    </tr>\n",
       "    <tr>\n",
       "      <th>...</th>\n",
       "      <td>...</td>\n",
       "      <td>...</td>\n",
       "      <td>...</td>\n",
       "      <td>...</td>\n",
       "      <td>...</td>\n",
       "      <td>...</td>\n",
       "      <td>...</td>\n",
       "      <td>...</td>\n",
       "      <td>...</td>\n",
       "      <td>...</td>\n",
       "      <td>...</td>\n",
       "      <td>...</td>\n",
       "      <td>...</td>\n",
       "      <td>...</td>\n",
       "      <td>...</td>\n",
       "      <td>...</td>\n",
       "      <td>...</td>\n",
       "      <td>...</td>\n",
       "      <td>...</td>\n",
       "      <td>...</td>\n",
       "      <td>...</td>\n",
       "    </tr>\n",
       "    <tr>\n",
       "      <th>155927</th>\n",
       "      <td>2020-05-14</td>\n",
       "      <td>082616</td>\n",
       "      <td>2</td>\n",
       "      <td>12</td>\n",
       "      <td>9</td>\n",
       "      <td>2</td>\n",
       "      <td>9</td>\n",
       "      <td>9</td>\n",
       "      <td>16</td>\n",
       "      <td>1</td>\n",
       "      <td>...</td>\n",
       "      <td>2</td>\n",
       "      <td>1</td>\n",
       "      <td>2</td>\n",
       "      <td>2</td>\n",
       "      <td>1</td>\n",
       "      <td>3</td>\n",
       "      <td>99</td>\n",
       "      <td>MÃ©xico</td>\n",
       "      <td>99</td>\n",
       "      <td>97</td>\n",
       "    </tr>\n",
       "    <tr>\n",
       "      <th>155928</th>\n",
       "      <td>2020-05-14</td>\n",
       "      <td>1ca324</td>\n",
       "      <td>2</td>\n",
       "      <td>12</td>\n",
       "      <td>9</td>\n",
       "      <td>1</td>\n",
       "      <td>9</td>\n",
       "      <td>9</td>\n",
       "      <td>7</td>\n",
       "      <td>1</td>\n",
       "      <td>...</td>\n",
       "      <td>2</td>\n",
       "      <td>2</td>\n",
       "      <td>2</td>\n",
       "      <td>2</td>\n",
       "      <td>1</td>\n",
       "      <td>3</td>\n",
       "      <td>99</td>\n",
       "      <td>MÃ©xico</td>\n",
       "      <td>99</td>\n",
       "      <td>97</td>\n",
       "    </tr>\n",
       "    <tr>\n",
       "      <th>155929</th>\n",
       "      <td>2020-05-14</td>\n",
       "      <td>0ef7d9</td>\n",
       "      <td>1</td>\n",
       "      <td>12</td>\n",
       "      <td>15</td>\n",
       "      <td>2</td>\n",
       "      <td>15</td>\n",
       "      <td>15</td>\n",
       "      <td>99</td>\n",
       "      <td>2</td>\n",
       "      <td>...</td>\n",
       "      <td>2</td>\n",
       "      <td>2</td>\n",
       "      <td>2</td>\n",
       "      <td>2</td>\n",
       "      <td>2</td>\n",
       "      <td>3</td>\n",
       "      <td>99</td>\n",
       "      <td>MÃ©xico</td>\n",
       "      <td>99</td>\n",
       "      <td>2</td>\n",
       "    </tr>\n",
       "    <tr>\n",
       "      <th>155930</th>\n",
       "      <td>2020-05-14</td>\n",
       "      <td>1b6ef0</td>\n",
       "      <td>2</td>\n",
       "      <td>12</td>\n",
       "      <td>9</td>\n",
       "      <td>1</td>\n",
       "      <td>9</td>\n",
       "      <td>9</td>\n",
       "      <td>17</td>\n",
       "      <td>1</td>\n",
       "      <td>...</td>\n",
       "      <td>2</td>\n",
       "      <td>2</td>\n",
       "      <td>2</td>\n",
       "      <td>2</td>\n",
       "      <td>1</td>\n",
       "      <td>3</td>\n",
       "      <td>99</td>\n",
       "      <td>MÃ©xico</td>\n",
       "      <td>99</td>\n",
       "      <td>97</td>\n",
       "    </tr>\n",
       "    <tr>\n",
       "      <th>155931</th>\n",
       "      <td>2020-05-14</td>\n",
       "      <td>09266b</td>\n",
       "      <td>2</td>\n",
       "      <td>4</td>\n",
       "      <td>15</td>\n",
       "      <td>1</td>\n",
       "      <td>9</td>\n",
       "      <td>15</td>\n",
       "      <td>121</td>\n",
       "      <td>1</td>\n",
       "      <td>...</td>\n",
       "      <td>2</td>\n",
       "      <td>1</td>\n",
       "      <td>2</td>\n",
       "      <td>2</td>\n",
       "      <td>99</td>\n",
       "      <td>3</td>\n",
       "      <td>99</td>\n",
       "      <td>MÃ©xico</td>\n",
       "      <td>99</td>\n",
       "      <td>97</td>\n",
       "    </tr>\n",
       "  </tbody>\n",
       "</table>\n",
       "<p>155932 rows × 35 columns</p>\n",
       "</div>"
      ],
      "text/plain": [
       "       FECHA_ACTUALIZACION ID_REGISTRO  ORIGEN  SECTOR  ENTIDAD_UM  SEXO  \\\n",
       "0               2020-05-14      03210d       2       4          31     1   \n",
       "1               2020-05-14      0e00d2       2       4           9     1   \n",
       "2               2020-05-14      03f822       2       4           9     2   \n",
       "3               2020-05-14      002430       2       4          22     2   \n",
       "4               2020-05-14      0930ff       2       4           9     2   \n",
       "...                    ...         ...     ...     ...         ...   ...   \n",
       "155927          2020-05-14      082616       2      12           9     2   \n",
       "155928          2020-05-14      1ca324       2      12           9     1   \n",
       "155929          2020-05-14      0ef7d9       1      12          15     2   \n",
       "155930          2020-05-14      1b6ef0       2      12           9     1   \n",
       "155931          2020-05-14      09266b       2       4          15     1   \n",
       "\n",
       "        ENTIDAD_NAC  ENTIDAD_RES  MUNICIPIO_RES  TIPO_PACIENTE  ...  \\\n",
       "0                31           31             50              1  ...   \n",
       "1                 9            9             16              1  ...   \n",
       "2                12           23              8              1  ...   \n",
       "3                22           22             14              1  ...   \n",
       "4                 9           15            121              2  ...   \n",
       "...             ...          ...            ...            ...  ...   \n",
       "155927            9            9             16              1  ...   \n",
       "155928            9            9              7              1  ...   \n",
       "155929           15           15             99              2  ...   \n",
       "155930            9            9             17              1  ...   \n",
       "155931            9           15            121              1  ...   \n",
       "\n",
       "       CARDIOVASCULAR OBESIDAD RENAL_CRONICA  TABAQUISMO  OTRO_CASO  \\\n",
       "0                   2        1             2           2         99   \n",
       "1                   2        2             2           2         99   \n",
       "2                   2        2             2           2         99   \n",
       "3                   2        2             2           2         99   \n",
       "4                   1        2             2           2         99   \n",
       "...               ...      ...           ...         ...        ...   \n",
       "155927              2        1             2           2          1   \n",
       "155928              2        2             2           2          1   \n",
       "155929              2        2             2           2          2   \n",
       "155930              2        2             2           2          1   \n",
       "155931              2        1             2           2         99   \n",
       "\n",
       "        RESULTADO  MIGRANTE  PAIS_NACIONALIDAD  PAIS_ORIGEN  UCI  \n",
       "0               1        99            MÃ©xico           99   97  \n",
       "1               1        99            MÃ©xico           99   97  \n",
       "2               1        99            MÃ©xico           99   97  \n",
       "3               1        99            MÃ©xico           99   97  \n",
       "4               1        99            MÃ©xico           99    2  \n",
       "...           ...       ...                ...          ...  ...  \n",
       "155927          3        99            MÃ©xico           99   97  \n",
       "155928          3        99            MÃ©xico           99   97  \n",
       "155929          3        99            MÃ©xico           99    2  \n",
       "155930          3        99            MÃ©xico           99   97  \n",
       "155931          3        99            MÃ©xico           99   97  \n",
       "\n",
       "[155932 rows x 35 columns]"
      ]
     },
     "execution_count": 187,
     "metadata": {},
     "output_type": "execute_result"
    }
   ],
   "source": [
    "covid_19"
   ]
  },
  {
   "cell_type": "code",
   "execution_count": 188,
   "metadata": {},
   "outputs": [],
   "source": [
    "# SARS-CoV-2\n",
    "covid_yes = covid_19[covid_19.RESULTADO == 1]\n",
    "covid_no = covid_19[covid_19.RESULTADO == 2]\n",
    "covid_ns = covid_19[covid_19.RESULTADO == 3]"
   ]
  },
  {
   "cell_type": "code",
   "execution_count": 189,
   "metadata": {},
   "outputs": [],
   "source": [
    "covid_si = (covid_yes.groupby(['FECHA_INGRESO'])['RESULTADO'].count()).to_frame()\n",
    "covid_no = (covid_no.groupby(['FECHA_INGRESO'])['RESULTADO'].count()).to_frame()\n",
    "covid_ns = (covid_ns.groupby(['FECHA_INGRESO'])['RESULTADO'].count()).to_frame()"
   ]
  },
  {
   "cell_type": "code",
   "execution_count": 190,
   "metadata": {},
   "outputs": [],
   "source": [
    "# CumSum\n",
    "covid_si_cum = covid_si.cumsum()[['RESULTADO']]\n",
    "covid_no_cum = covid_no.cumsum()[['RESULTADO']]\n",
    "covid_ns_cum = covid_ns.cumsum()[['RESULTADO']]"
   ]
  },
  {
   "cell_type": "code",
   "execution_count": 191,
   "metadata": {},
   "outputs": [],
   "source": [
    "# Combine by FECHA_INGRESO\n",
    "merged_left = pd.merge(left=covid_no_cum, right=covid_si_cum, how='left', left_on='FECHA_INGRESO', right_on='FECHA_INGRESO')\n",
    "merged_left = pd.merge(left=merged_left, right=covid_ns_cum, how='left', left_on='FECHA_INGRESO', right_on='FECHA_INGRESO')"
   ]
  },
  {
   "cell_type": "code",
   "execution_count": 192,
   "metadata": {},
   "outputs": [
    {
     "data": {
      "text/html": [
       "<div>\n",
       "<style scoped>\n",
       "    .dataframe tbody tr th:only-of-type {\n",
       "        vertical-align: middle;\n",
       "    }\n",
       "\n",
       "    .dataframe tbody tr th {\n",
       "        vertical-align: top;\n",
       "    }\n",
       "\n",
       "    .dataframe thead th {\n",
       "        text-align: right;\n",
       "    }\n",
       "</style>\n",
       "<table border=\"1\" class=\"dataframe\">\n",
       "  <thead>\n",
       "    <tr style=\"text-align: right;\">\n",
       "      <th></th>\n",
       "      <th>Negativo</th>\n",
       "      <th>Positivo</th>\n",
       "      <th>Sospechoso</th>\n",
       "    </tr>\n",
       "    <tr>\n",
       "      <th>FECHA_INGRESO</th>\n",
       "      <th></th>\n",
       "      <th></th>\n",
       "      <th></th>\n",
       "    </tr>\n",
       "  </thead>\n",
       "  <tbody>\n",
       "    <tr>\n",
       "      <th>2020-01-01</th>\n",
       "      <td>5</td>\n",
       "      <td>NaN</td>\n",
       "      <td>NaN</td>\n",
       "    </tr>\n",
       "    <tr>\n",
       "      <th>2020-01-02</th>\n",
       "      <td>21</td>\n",
       "      <td>NaN</td>\n",
       "      <td>NaN</td>\n",
       "    </tr>\n",
       "    <tr>\n",
       "      <th>2020-01-03</th>\n",
       "      <td>39</td>\n",
       "      <td>NaN</td>\n",
       "      <td>NaN</td>\n",
       "    </tr>\n",
       "    <tr>\n",
       "      <th>2020-01-04</th>\n",
       "      <td>45</td>\n",
       "      <td>NaN</td>\n",
       "      <td>NaN</td>\n",
       "    </tr>\n",
       "    <tr>\n",
       "      <th>2020-01-05</th>\n",
       "      <td>59</td>\n",
       "      <td>NaN</td>\n",
       "      <td>NaN</td>\n",
       "    </tr>\n",
       "    <tr>\n",
       "      <th>...</th>\n",
       "      <td>...</td>\n",
       "      <td>...</td>\n",
       "      <td>...</td>\n",
       "    </tr>\n",
       "    <tr>\n",
       "      <th>2020-05-10</th>\n",
       "      <td>82877</td>\n",
       "      <td>40267.0</td>\n",
       "      <td>11567.0</td>\n",
       "    </tr>\n",
       "    <tr>\n",
       "      <th>2020-05-11</th>\n",
       "      <td>85059</td>\n",
       "      <td>41714.0</td>\n",
       "      <td>14487.0</td>\n",
       "    </tr>\n",
       "    <tr>\n",
       "      <th>2020-05-12</th>\n",
       "      <td>86415</td>\n",
       "      <td>42414.0</td>\n",
       "      <td>18734.0</td>\n",
       "    </tr>\n",
       "    <tr>\n",
       "      <th>2020-05-13</th>\n",
       "      <td>86589</td>\n",
       "      <td>42589.0</td>\n",
       "      <td>24131.0</td>\n",
       "    </tr>\n",
       "    <tr>\n",
       "      <th>2020-05-14</th>\n",
       "      <td>86591</td>\n",
       "      <td>42595.0</td>\n",
       "      <td>26746.0</td>\n",
       "    </tr>\n",
       "  </tbody>\n",
       "</table>\n",
       "<p>135 rows × 3 columns</p>\n",
       "</div>"
      ],
      "text/plain": [
       "               Negativo  Positivo  Sospechoso\n",
       "FECHA_INGRESO                                \n",
       "2020-01-01            5       NaN         NaN\n",
       "2020-01-02           21       NaN         NaN\n",
       "2020-01-03           39       NaN         NaN\n",
       "2020-01-04           45       NaN         NaN\n",
       "2020-01-05           59       NaN         NaN\n",
       "...                 ...       ...         ...\n",
       "2020-05-10        82877   40267.0     11567.0\n",
       "2020-05-11        85059   41714.0     14487.0\n",
       "2020-05-12        86415   42414.0     18734.0\n",
       "2020-05-13        86589   42589.0     24131.0\n",
       "2020-05-14        86591   42595.0     26746.0\n",
       "\n",
       "[135 rows x 3 columns]"
      ]
     },
     "execution_count": 192,
     "metadata": {},
     "output_type": "execute_result"
    }
   ],
   "source": [
    "# Rename\n",
    "merged_left = merged_left.rename(columns={\"RESULTADO_x\": \"Negativo\", \"RESULTADO_y\": \"Positivo\", \"RESULTADO\": \"Sospechoso\"})\n",
    "merged_left"
   ]
  },
  {
   "cell_type": "code",
   "execution_count": 193,
   "metadata": {},
   "outputs": [
    {
     "data": {
      "text/plain": [
       "Text(0.5, 1.0, 'Casos acumulados por día')"
      ]
     },
     "execution_count": 193,
     "metadata": {},
     "output_type": "execute_result"
    },
    {
     "data": {
      "image/png": "[encoded data removed]",
      "text/plain": [
       "<Figure size 1080x576 with 1 Axes>"
      ]
     },
     "metadata": {
      "needs_background": "light"
     },
     "output_type": "display_data"
    }
   ],
   "source": [
    "plot1 = merged_left.plot(figsize=(15,8)) \n",
    "plot1.set_ylim([0, 100000])\n",
    "plt.title(f\"Casos acumulados por día\")"
   ]
  },
  {
   "cell_type": "code",
   "execution_count": 194,
   "metadata": {},
   "outputs": [
    {
     "data": {
      "text/html": [
       "<div>\n",
       "<style scoped>\n",
       "    .dataframe tbody tr th:only-of-type {\n",
       "        vertical-align: middle;\n",
       "    }\n",
       "\n",
       "    .dataframe tbody tr th {\n",
       "        vertical-align: top;\n",
       "    }\n",
       "\n",
       "    .dataframe thead th {\n",
       "        text-align: right;\n",
       "    }\n",
       "</style>\n",
       "<table border=\"1\" class=\"dataframe\">\n",
       "  <thead>\n",
       "    <tr style=\"text-align: right;\">\n",
       "      <th></th>\n",
       "      <th>FECHA_ACTUALIZACION</th>\n",
       "    </tr>\n",
       "    <tr>\n",
       "      <th>RESULTADO</th>\n",
       "      <th></th>\n",
       "    </tr>\n",
       "  </thead>\n",
       "  <tbody>\n",
       "    <tr>\n",
       "      <th>1</th>\n",
       "      <td>42595</td>\n",
       "    </tr>\n",
       "    <tr>\n",
       "      <th>2</th>\n",
       "      <td>86591</td>\n",
       "    </tr>\n",
       "    <tr>\n",
       "      <th>3</th>\n",
       "      <td>26746</td>\n",
       "    </tr>\n",
       "  </tbody>\n",
       "</table>\n",
       "</div>"
      ],
      "text/plain": [
       "           FECHA_ACTUALIZACION\n",
       "RESULTADO                     \n",
       "1                        42595\n",
       "2                        86591\n",
       "3                        26746"
      ]
     },
     "execution_count": 194,
     "metadata": {},
     "output_type": "execute_result"
    }
   ],
   "source": [
    "# Grupping by result\n",
    "resultado = covid_19.groupby('RESULTADO').count()\n",
    "resultado = resultado[['FECHA_ACTUALIZACION']]\n",
    "resultado"
   ]
  },
  {
   "cell_type": "code",
   "execution_count": 195,
   "metadata": {},
   "outputs": [
    {
     "data": {
      "text/plain": [
       "155932"
      ]
     },
     "execution_count": 195,
     "metadata": {},
     "output_type": "execute_result"
    }
   ],
   "source": [
    "# Total  \n",
    "totales = resultado.FECHA_ACTUALIZACION.sum()\n",
    "totales"
   ]
  },
  {
   "cell_type": "code",
   "execution_count": 196,
   "metadata": {},
   "outputs": [
    {
     "data": {
      "text/plain": [
       "42595"
      ]
     },
     "execution_count": 196,
     "metadata": {},
     "output_type": "execute_result"
    }
   ],
   "source": [
    "# Positive SARS-CoV-2\n",
    "covid_yes = covid_19[covid_19.RESULTADO == 1]\n",
    "covid_si = (covid_yes.groupby(['FECHA_INGRESO'])['RESULTADO'].count()).to_frame()\n",
    "positivos = covid_si.RESULTADO.sum()\n",
    "positivos"
   ]
  },
  {
   "cell_type": "code",
   "execution_count": 197,
   "metadata": {},
   "outputs": [
    {
     "data": {
      "text/plain": [
       "86591"
      ]
     },
     "execution_count": 197,
     "metadata": {},
     "output_type": "execute_result"
    }
   ],
   "source": [
    "# Negative SARS-CoV-2\n",
    "covid_no = covid_19[covid_19.RESULTADO == 2]\n",
    "covid_no = (covid_no.groupby(['FECHA_INGRESO'])['RESULTADO'].count()).to_frame()\n",
    "negativos = covid_no.RESULTADO.sum()\n",
    "negativos"
   ]
  },
  {
   "cell_type": "code",
   "execution_count": 198,
   "metadata": {},
   "outputs": [
    {
     "data": {
      "text/plain": [
       "26746"
      ]
     },
     "execution_count": 198,
     "metadata": {},
     "output_type": "execute_result"
    }
   ],
   "source": [
    "# Not confirmed SARS-CoV-2\n",
    "covid_sosp = covid_19[covid_19.RESULTADO == 3]\n",
    "covid_sosp = (covid_sosp.groupby(['FECHA_INGRESO'])['RESULTADO'].count()).to_frame()\n",
    "sospechosos = covid_sosp.RESULTADO.sum()\n",
    "sospechosos"
   ]
  },
  {
   "cell_type": "code",
   "execution_count": 199,
   "metadata": {},
   "outputs": [
    {
     "data": {
      "text/plain": [
       "27.31639432573173"
      ]
     },
     "execution_count": 199,
     "metadata": {},
     "output_type": "execute_result"
    }
   ],
   "source": [
    "# Positive (%)\n",
    "porcentaje_positivos = (positivos/totales) * 100\n",
    "porcentaje_positivos"
   ]
  },
  {
   "cell_type": "code",
   "execution_count": 200,
   "metadata": {},
   "outputs": [
    {
     "data": {
      "text/plain": [
       "55.53125721468333"
      ]
     },
     "execution_count": 200,
     "metadata": {},
     "output_type": "execute_result"
    }
   ],
   "source": [
    "# Negative (%)\n",
    "porcentaje_negativos = (negativos / totales) * 100\n",
    "porcentaje_negativos"
   ]
  },
  {
   "cell_type": "code",
   "execution_count": 201,
   "metadata": {},
   "outputs": [
    {
     "data": {
      "text/plain": [
       "17.15234845958495"
      ]
     },
     "execution_count": 201,
     "metadata": {},
     "output_type": "execute_result"
    }
   ],
   "source": [
    "# Suspicious (%)\n",
    "porcentaje_sospechosos = (sospechosos / totales) * 100\n",
    "porcentaje_sospechosos"
   ]
  },
  {
   "cell_type": "code",
   "execution_count": 202,
   "metadata": {},
   "outputs": [
    {
     "data": {
      "text/plain": [
       "44.46874278531668"
      ]
     },
     "execution_count": 202,
     "metadata": {},
     "output_type": "execute_result"
    }
   ],
   "source": [
    "# Positive + Suspicious (%)\n",
    "porcentaje_positivos + porcentaje_sospechosos"
   ]
  },
  {
   "cell_type": "code",
   "execution_count": 203,
   "metadata": {
    "scrolled": true
   },
   "outputs": [
    {
     "data": {
      "text/plain": [
       "<BarContainer object of 3 artists>"
      ]
     },
     "execution_count": 203,
     "metadata": {},
     "output_type": "execute_result"
    },
    {
     "data": {
      "image/png": "[encoded data removed]",
      "text/plain": [
       "<Figure size 432x288 with 1 Axes>"
      ]
     },
     "metadata": {
      "needs_background": "light"
     },
     "output_type": "display_data"
    }
   ],
   "source": [
    "# Plot\n",
    "n_groups = 3\n",
    "result = ('Positivo SARS-CoV-2', 'No positivo SARS-CoV-2', 'Resultado pendiente')\n",
    "casos = (positivos, negativos, sospechosos)\n",
    "# Create bars\n",
    "plt.bar(result, casos)"
   ]
  },
  {
   "cell_type": "code",
   "execution_count": 204,
   "metadata": {},
   "outputs": [],
   "source": [
    "# How many deaths for Covi-19 in México"
   ]
  },
  {
   "cell_type": "code",
   "execution_count": 182,
   "metadata": {},
   "outputs": [
    {
     "data": {
      "text/plain": [
       "FECHA_DEF\n",
       "2020-03-18        2\n",
       "2020-03-20        1\n",
       "2020-03-22        1\n",
       "2020-03-23        1\n",
       "2020-03-24        2\n",
       "2020-03-25        2\n",
       "2020-03-26        8\n",
       "2020-03-27        6\n",
       "2020-03-28       13\n",
       "2020-03-29        8\n",
       "2020-03-30       12\n",
       "2020-03-31       21\n",
       "2020-04-01       19\n",
       "2020-04-02       25\n",
       "2020-04-03       31\n",
       "2020-04-04       30\n",
       "2020-04-05       27\n",
       "2020-04-06       53\n",
       "2020-04-07       54\n",
       "2020-04-08       45\n",
       "2020-04-09       50\n",
       "2020-04-10       60\n",
       "2020-04-11       62\n",
       "2020-04-12       62\n",
       "2020-04-13       68\n",
       "2020-04-14       77\n",
       "2020-04-15       83\n",
       "2020-04-16       69\n",
       "2020-04-17       89\n",
       "2020-04-18       92\n",
       "2020-04-19      109\n",
       "2020-04-20      117\n",
       "2020-04-21      118\n",
       "2020-04-22      125\n",
       "2020-04-23      125\n",
       "2020-04-24      149\n",
       "2020-04-25      155\n",
       "2020-04-26      158\n",
       "2020-04-27      147\n",
       "2020-04-28      123\n",
       "2020-04-29      167\n",
       "2020-04-30      161\n",
       "2020-05-01      172\n",
       "2020-05-02      171\n",
       "2020-05-03      153\n",
       "2020-05-04      168\n",
       "2020-05-05      158\n",
       "2020-05-06      150\n",
       "2020-05-07      125\n",
       "2020-05-08      144\n",
       "2020-05-09      132\n",
       "2020-05-10      123\n",
       "2020-05-11      119\n",
       "2020-05-12       95\n",
       "2020-05-13       37\n",
       "2020-05-14        3\n",
       "9999-99-99    38118\n",
       "dtype: int64"
      ]
     },
     "execution_count": 182,
     "metadata": {},
     "output_type": "execute_result"
    }
   ],
   "source": [
    "defun = covid_yes.groupby('FECHA_DEF').size()\n",
    "defun"
   ]
  },
  {
   "cell_type": "code",
   "execution_count": 205,
   "metadata": {},
   "outputs": [],
   "source": [
    "# Delete NA cases\n",
    "defun = defun[defun != 38118]"
   ]
  },
  {
   "cell_type": "code",
   "execution_count": 206,
   "metadata": {},
   "outputs": [],
   "source": [
    "# Comulative\n",
    "cum_death = defun.cumsum()"
   ]
  },
  {
   "cell_type": "code",
   "execution_count": 207,
   "metadata": {},
   "outputs": [
    {
     "data": {
      "text/plain": [
       "FECHA_DEF\n",
       "2020-03-18       2\n",
       "2020-03-20       3\n",
       "2020-03-22       4\n",
       "2020-03-23       5\n",
       "2020-03-24       7\n",
       "2020-03-25       9\n",
       "2020-03-26      17\n",
       "2020-03-27      23\n",
       "2020-03-28      36\n",
       "2020-03-29      44\n",
       "2020-03-30      56\n",
       "2020-03-31      77\n",
       "2020-04-01      96\n",
       "2020-04-02     121\n",
       "2020-04-03     152\n",
       "2020-04-04     182\n",
       "2020-04-05     209\n",
       "2020-04-06     262\n",
       "2020-04-07     316\n",
       "2020-04-08     361\n",
       "2020-04-09     411\n",
       "2020-04-10     471\n",
       "2020-04-11     533\n",
       "2020-04-12     595\n",
       "2020-04-13     663\n",
       "2020-04-14     740\n",
       "2020-04-15     823\n",
       "2020-04-16     892\n",
       "2020-04-17     981\n",
       "2020-04-18    1073\n",
       "2020-04-19    1182\n",
       "2020-04-20    1299\n",
       "2020-04-21    1417\n",
       "2020-04-22    1542\n",
       "2020-04-23    1667\n",
       "2020-04-24    1816\n",
       "2020-04-25    1971\n",
       "2020-04-26    2129\n",
       "2020-04-27    2276\n",
       "2020-04-28    2399\n",
       "2020-04-29    2566\n",
       "2020-04-30    2727\n",
       "2020-05-01    2899\n",
       "2020-05-02    3070\n",
       "2020-05-03    3223\n",
       "2020-05-04    3391\n",
       "2020-05-05    3549\n",
       "2020-05-06    3699\n",
       "2020-05-07    3824\n",
       "2020-05-08    3968\n",
       "2020-05-09    4100\n",
       "2020-05-10    4223\n",
       "2020-05-11    4342\n",
       "2020-05-12    4437\n",
       "2020-05-13    4474\n",
       "2020-05-14    4477\n",
       "dtype: int64"
      ]
     },
     "execution_count": 207,
     "metadata": {},
     "output_type": "execute_result"
    }
   ],
   "source": [
    "cum_death"
   ]
  },
  {
   "cell_type": "code",
   "execution_count": 208,
   "metadata": {},
   "outputs": [
    {
     "data": {
      "text/plain": [
       "Text(0.5, 1.0, 'Muertes por COVID-19')"
      ]
     },
     "execution_count": 208,
     "metadata": {},
     "output_type": "execute_result"
    },
    {
     "data": {
      "image/png": "[encoded data removed]",
      "text/plain": [
       "<Figure size 1080x576 with 1 Axes>"
      ]
     },
     "metadata": {
      "needs_background": "light"
     },
     "output_type": "display_data"
    }
   ],
   "source": [
    "cum_death.plot(figsize=(15,8)) \n",
    "plt.title(f\"Muertes por COVID-19\")"
   ]
  },
  {
   "cell_type": "code",
   "execution_count": null,
   "metadata": {},
   "outputs": [],
   "source": []
  },
  {
   "cell_type": "code",
   "execution_count": null,
   "metadata": {},
   "outputs": [],
   "source": []
  },
  {
   "cell_type": "code",
   "execution_count": null,
   "metadata": {},
   "outputs": [],
   "source": []
  },
  {
   "cell_type": "code",
   "execution_count": null,
   "metadata": {},
   "outputs": [],
   "source": []
  }
 ],
 "metadata": {
  "kernelspec": {
   "display_name": "Python 3",
   "language": "python",
   "name": "python3"
  },
  "language_info": {
   "codemirror_mode": {
    "name": "ipython",
    "version": 3
   },
   "file_extension": ".py",
   "mimetype": "text/x-python",
   "name": "python",
   "nbconvert_exporter": "python",
   "pygments_lexer": "ipython3",
   "version": "3.7.6"
  }
 },
 "nbformat": 4,
 "nbformat_minor": 4
}
