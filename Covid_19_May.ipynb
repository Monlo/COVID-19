{
 "cells": [
  {
   "cell_type": "code",
   "execution_count": 72,
   "metadata": {},
   "outputs": [],
   "source": [
    "# Import libraries\n",
    "import os\n",
    "import requests\n",
    "from zipfile import ZipFile\n",
    "import pandas as pd \n",
    "import matplotlib.pyplot as plt\n",
    "from matplotlib.ticker import NullFormatter, FixedLocator\n",
    "import numpy as np"
   ]
  },
  {
   "cell_type": "code",
   "execution_count": 85,
   "metadata": {},
   "outputs": [],
   "source": [
    "# Define working directory\n",
    "os.chdir('/Users/monlopez/Documents/MON/data_bases/covid-19/Mayo')"
   ]
  },
  {
   "cell_type": "code",
   "execution_count": 86,
   "metadata": {},
   "outputs": [],
   "source": [
    "# Dowload ZipFile of Governmet webpage\n",
    "# https://datos.gob.mx/busca/dataset/informacion-referente-a-casos-covid-19-en-mexico\n",
    "url = 'http://187.191.75.115/gobmx/salud/datos_abiertos/datos_abiertos_covid19.zip'\n",
    "r = requests.get(url)\n",
    "\n",
    "with open('/Users/monlopez/Documents/MON/data_bases/covid-19/Mayo/datos_abiertos_covid19.zip', 'wb') as f:\n",
    "    f.write(r.content)"
   ]
  },
  {
   "cell_type": "code",
   "execution_count": 87,
   "metadata": {},
   "outputs": [],
   "source": [
    "# UnZip\n",
    "with ZipFile('datos_abiertos_covid19.zip', 'r') as zipObj:\n",
    "   # Extraxt zip contents in the working directory  \n",
    "   zipObj.extractall()"
   ]
  },
  {
   "cell_type": "code",
   "execution_count": 88,
   "metadata": {},
   "outputs": [],
   "source": [
    "# Import dataset\n",
    "# The file name will change depending of the day\n",
    "covid_19 = pd.read_csv(\"200503COVID19MEXICO.csv\", encoding = \"ISO-8859-1\") \n",
    "covid_19=covid_19.dropna()"
   ]
  },
  {
   "cell_type": "code",
   "execution_count": 89,
   "metadata": {},
   "outputs": [],
   "source": [
    "# Positive SARS-CoV-2\n",
    "covid_yes = covid_19[covid_19.RESULTADO == 1]"
   ]
  },
  {
   "cell_type": "code",
   "execution_count": 90,
   "metadata": {},
   "outputs": [],
   "source": [
    "# Plot\n",
    "covid_si = (covid_yes.groupby(['FECHA_INGRESO'])['RESULTADO'].count()).to_frame()\n",
    "# Delet last column\n",
    "covid_si= covid_si.drop(['2020-04-29'])"
   ]
  },
  {
   "cell_type": "code",
   "execution_count": 91,
   "metadata": {},
   "outputs": [
    {
     "data": {
      "text/plain": [
       "(0, 30000)"
      ]
     },
     "execution_count": 91,
     "metadata": {},
     "output_type": "execute_result"
    },
    {
     "data": {
      "image/png": "[encoded data removed]",
      "text/plain": [
       "<Figure size 1080x720 with 1 Axes>"
      ]
     },
     "metadata": {
      "needs_background": "light"
     },
     "output_type": "display_data"
    }
   ],
   "source": [
    "# Cumulative sum\n",
    "plot1= covid_si.cumsum()[['RESULTADO']].plot(figsize=(15,10)) \n",
    "plot1.set_ylim([0, 30000])"
   ]
  },
  {
   "cell_type": "code",
   "execution_count": 92,
   "metadata": {
    "scrolled": true
   },
   "outputs": [
    {
     "data": {
      "text/html": [
       "<div>\n",
       "<style scoped>\n",
       "    .dataframe tbody tr th:only-of-type {\n",
       "        vertical-align: middle;\n",
       "    }\n",
       "\n",
       "    .dataframe tbody tr th {\n",
       "        vertical-align: top;\n",
       "    }\n",
       "\n",
       "    .dataframe thead th {\n",
       "        text-align: right;\n",
       "    }\n",
       "</style>\n",
       "<table border=\"1\" class=\"dataframe\">\n",
       "  <thead>\n",
       "    <tr style=\"text-align: right;\">\n",
       "      <th></th>\n",
       "      <th>FECHA_ACTUALIZACION</th>\n",
       "    </tr>\n",
       "    <tr>\n",
       "      <th>RESULTADO</th>\n",
       "      <th></th>\n",
       "    </tr>\n",
       "  </thead>\n",
       "  <tbody>\n",
       "    <tr>\n",
       "      <th>1</th>\n",
       "      <td>23471</td>\n",
       "    </tr>\n",
       "    <tr>\n",
       "      <th>2</th>\n",
       "      <td>59704</td>\n",
       "    </tr>\n",
       "    <tr>\n",
       "      <th>3</th>\n",
       "      <td>12664</td>\n",
       "    </tr>\n",
       "  </tbody>\n",
       "</table>\n",
       "</div>"
      ],
      "text/plain": [
       "           FECHA_ACTUALIZACION\n",
       "RESULTADO                     \n",
       "1                        23471\n",
       "2                        59704\n",
       "3                        12664"
      ]
     },
     "execution_count": 92,
     "metadata": {},
     "output_type": "execute_result"
    }
   ],
   "source": [
    "# Grupping by result\n",
    "resultado = covid_19.groupby('RESULTADO').count()\n",
    "resultado = resultado[['FECHA_ACTUALIZACION']]\n",
    "resultado"
   ]
  },
  {
   "cell_type": "code",
   "execution_count": 100,
   "metadata": {},
   "outputs": [
    {
     "data": {
      "text/plain": [
       "95839"
      ]
     },
     "execution_count": 100,
     "metadata": {},
     "output_type": "execute_result"
    }
   ],
   "source": [
    "# Total  \n",
    "totales = resultado.FECHA_ACTUALIZACION.sum()\n",
    "totales"
   ]
  },
  {
   "cell_type": "code",
   "execution_count": 101,
   "metadata": {},
   "outputs": [
    {
     "data": {
      "text/plain": [
       "23471"
      ]
     },
     "execution_count": 101,
     "metadata": {},
     "output_type": "execute_result"
    }
   ],
   "source": [
    "# Positive SARS-CoV-2\n",
    "covid_yes = covid_19[covid_19.RESULTADO == 1]\n",
    "covid_si = (covid_yes.groupby(['FECHA_INGRESO'])['RESULTADO'].count()).to_frame()\n",
    "positivos = covid_si.RESULTADO.sum()\n",
    "positivos"
   ]
  },
  {
   "cell_type": "code",
   "execution_count": 102,
   "metadata": {},
   "outputs": [
    {
     "data": {
      "text/plain": [
       "59704"
      ]
     },
     "execution_count": 102,
     "metadata": {},
     "output_type": "execute_result"
    }
   ],
   "source": [
    "# Negative SARS-CoV-2\n",
    "covid_no = covid_19[covid_19.RESULTADO == 2]\n",
    "covid_no = (covid_no.groupby(['FECHA_INGRESO'])['RESULTADO'].count()).to_frame()\n",
    "negativos = covid_no.RESULTADO.sum()\n",
    "negativos"
   ]
  },
  {
   "cell_type": "code",
   "execution_count": 103,
   "metadata": {},
   "outputs": [
    {
     "data": {
      "text/plain": [
       "12664"
      ]
     },
     "execution_count": 103,
     "metadata": {},
     "output_type": "execute_result"
    }
   ],
   "source": [
    "# Not confirmed SARS-CoV-2\n",
    "covid_sosp = covid_19[covid_19.RESULTADO == 3]\n",
    "covid_sosp = (covid_sosp.groupby(['FECHA_INGRESO'])['RESULTADO'].count()).to_frame()\n",
    "sospechosos = covid_sosp.RESULTADO.sum()\n",
    "sospechosos"
   ]
  },
  {
   "cell_type": "code",
   "execution_count": 104,
   "metadata": {},
   "outputs": [
    {
     "data": {
      "text/plain": [
       "24.490030154738676"
      ]
     },
     "execution_count": 104,
     "metadata": {},
     "output_type": "execute_result"
    }
   ],
   "source": [
    "# Positive (%)\n",
    "porcentaje_positivos = (positivos/totales) * 100\n",
    "porcentaje_positivos"
   ]
  },
  {
   "cell_type": "code",
   "execution_count": 105,
   "metadata": {},
   "outputs": [
    {
     "data": {
      "text/plain": [
       "62.29614248896587"
      ]
     },
     "execution_count": 105,
     "metadata": {},
     "output_type": "execute_result"
    }
   ],
   "source": [
    "# Negative (%)\n",
    "porcentaje_negativos = (negativos / totales) * 100\n",
    "porcentaje_negativos"
   ]
  },
  {
   "cell_type": "code",
   "execution_count": 106,
   "metadata": {},
   "outputs": [
    {
     "data": {
      "text/plain": [
       "13.213827356295454"
      ]
     },
     "execution_count": 106,
     "metadata": {},
     "output_type": "execute_result"
    }
   ],
   "source": [
    "# Suspicious\n",
    "porcentaje_sospechosos = (sospechosos / totales) * 100\n",
    "porcentaje_sospechosos"
   ]
  },
  {
   "cell_type": "code",
   "execution_count": 107,
   "metadata": {},
   "outputs": [
    {
     "data": {
      "text/plain": [
       "37.70385751103413"
      ]
     },
     "execution_count": 107,
     "metadata": {},
     "output_type": "execute_result"
    }
   ],
   "source": [
    "# Confirmados + Sospechosos (%)\n",
    "porcentaje_positivos + porcentaje_sospechosos"
   ]
  },
  {
   "cell_type": "code",
   "execution_count": 108,
   "metadata": {},
   "outputs": [
    {
     "data": {
      "text/plain": [
       "<BarContainer object of 3 artists>"
      ]
     },
     "execution_count": 108,
     "metadata": {},
     "output_type": "execute_result"
    },
    {
     "data": {
      "image/png": "[encoded data removed]",
      "text/plain": [
       "<Figure size 432x288 with 1 Axes>"
      ]
     },
     "metadata": {
      "needs_background": "light"
     },
     "output_type": "display_data"
    }
   ],
   "source": [
    "# data to plot\n",
    "n_groups = 3\n",
    "result = ('Positivo SARS-CoV-2', 'No positivo SARS-CoV-2', 'Resultado pendiente')\n",
    "casos = (positivos, negativos, sospechosos)\n",
    "# Create bars\n",
    "plt.bar(result, casos)"
   ]
  }
 ],
 "metadata": {
  "kernelspec": {
   "display_name": "Python 3",
   "language": "python",
   "name": "python3"
  },
  "language_info": {
   "codemirror_mode": {
    "name": "ipython",
    "version": 3
   },
   "file_extension": ".py",
   "mimetype": "text/x-python",
   "name": "python",
   "nbconvert_exporter": "python",
   "pygments_lexer": "ipython3",
   "version": "3.7.6"
  }
 },
 "nbformat": 4,
 "nbformat_minor": 4
}
